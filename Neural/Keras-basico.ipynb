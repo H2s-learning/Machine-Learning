{
 "cells": [
  {
   "cell_type": "markdown",
   "metadata": {},
   "source": [
    "# Modelo de redes com Keras - Simples\n",
    "\n",
    "Aplicação didática da criação de uma rede com Keras. \n",
    "\n",
    "Não fazemos aqui preparação dos dados (normalização p, ex.) e também não separamos dados em treino, validação e teste."
   ]
  },
  {
   "cell_type": "markdown",
   "metadata": {},
   "source": [
    "Objetivo do dataset: Prever a direção de PETR4 no dia seguinte baseando-se nos retornos de 5 ativos no dia anterior."
   ]
  },
  {
   "cell_type": "code",
   "execution_count": 1,
   "metadata": {},
   "outputs": [],
   "source": [
    "import matplotlib.pyplot as plt\n",
    "import pandas as pd\n",
    "import datetime as dt\n",
    "import numpy as np\n",
    "from pandas_datareader import data\n",
    "import warnings\n",
    "warnings.simplefilter(action='ignore', category=FutureWarning)"
   ]
  },
  {
   "cell_type": "code",
   "execution_count": 2,
   "metadata": {},
   "outputs": [
    {
     "name": "stderr",
     "output_type": "stream",
     "text": [
      "Using TensorFlow backend.\n"
     ]
    }
   ],
   "source": [
    "from numpy import loadtxt\n",
    "from keras.models import Sequential\n",
    "from keras.layers import Dense\n",
    "#import keras"
   ]
  },
  {
   "cell_type": "markdown",
   "metadata": {},
   "source": [
    "## Criando Dataset"
   ]
  },
  {
   "cell_type": "code",
   "execution_count": 3,
   "metadata": {},
   "outputs": [],
   "source": [
    "start_date = '2000-01-01'\n",
    "end_date = '2019-05-01'"
   ]
  },
  {
   "cell_type": "code",
   "execution_count": 17,
   "metadata": {},
   "outputs": [],
   "source": [
    "def retorno(data):\n",
    "    return data['Close']/data['Open'] - 1"
   ]
  },
  {
   "cell_type": "code",
   "execution_count": 18,
   "metadata": {},
   "outputs": [],
   "source": [
    "petr = data.DataReader('PETR4.SA', 'yahoo', start_date, end_date)\n",
    "painel_ret = pd.DataFrame(index = petr.index)"
   ]
  },
  {
   "cell_type": "code",
   "execution_count": 19,
   "metadata": {},
   "outputs": [],
   "source": [
    "Tickerlist = ['PETR4.SA', 'VALE3.SA', 'ITUB4.SA', 'CSNA3.SA', 'ABEV3.SA']"
   ]
  },
  {
   "cell_type": "code",
   "execution_count": 20,
   "metadata": {},
   "outputs": [],
   "source": [
    "N = len(Tickerlist)"
   ]
  },
  {
   "cell_type": "code",
   "execution_count": 21,
   "metadata": {},
   "outputs": [],
   "source": [
    "for ticker in Tickerlist:\n",
    "    painel_ret[ticker] = retorno (data.DataReader(ticker, 'yahoo', start_date, end_date))\n",
    "\n",
    "tickersignal = 'PETR4.SA'+'sign'\n",
    "painel_ret[tickersignal]  =[1 if painel_ret.shift(-1).loc[i, 'PETR4.SA']>0 else 0 for i in painel_ret.index]\n",
    "    #signal = [1 if painel_ret.loc[i, ticker]>0 else 0 for i in painel_ret.index]\n",
    "    #painel_ret[tickersignal] = signal.shift(-1)"
   ]
  },
  {
   "cell_type": "code",
   "execution_count": 22,
   "metadata": {},
   "outputs": [
    {
     "data": {
      "text/html": [
       "<div>\n",
       "<style scoped>\n",
       "    .dataframe tbody tr th:only-of-type {\n",
       "        vertical-align: middle;\n",
       "    }\n",
       "\n",
       "    .dataframe tbody tr th {\n",
       "        vertical-align: top;\n",
       "    }\n",
       "\n",
       "    .dataframe thead th {\n",
       "        text-align: right;\n",
       "    }\n",
       "</style>\n",
       "<table border=\"1\" class=\"dataframe\">\n",
       "  <thead>\n",
       "    <tr style=\"text-align: right;\">\n",
       "      <th></th>\n",
       "      <th>PETR4.SA</th>\n",
       "      <th>VALE3.SA</th>\n",
       "      <th>ITUB4.SA</th>\n",
       "      <th>CSNA3.SA</th>\n",
       "      <th>ABEV3.SA</th>\n",
       "      <th>PETR4.SAsign</th>\n",
       "    </tr>\n",
       "    <tr>\n",
       "      <th>Date</th>\n",
       "      <th></th>\n",
       "      <th></th>\n",
       "      <th></th>\n",
       "      <th></th>\n",
       "      <th></th>\n",
       "      <th></th>\n",
       "    </tr>\n",
       "  </thead>\n",
       "  <tbody>\n",
       "    <tr>\n",
       "      <th>2019-04-25</th>\n",
       "      <td>0.012750</td>\n",
       "      <td>0.001991</td>\n",
       "      <td>0.021199</td>\n",
       "      <td>-0.016271</td>\n",
       "      <td>0.038571</td>\n",
       "      <td>0</td>\n",
       "    </tr>\n",
       "    <tr>\n",
       "      <th>2019-04-26</th>\n",
       "      <td>-0.015535</td>\n",
       "      <td>-0.001189</td>\n",
       "      <td>-0.000296</td>\n",
       "      <td>0.024171</td>\n",
       "      <td>0.004945</td>\n",
       "      <td>0</td>\n",
       "    </tr>\n",
       "    <tr>\n",
       "      <th>2019-04-29</th>\n",
       "      <td>-0.006534</td>\n",
       "      <td>-0.013545</td>\n",
       "      <td>-0.012371</td>\n",
       "      <td>-0.036667</td>\n",
       "      <td>0.002732</td>\n",
       "      <td>0</td>\n",
       "    </tr>\n",
       "    <tr>\n",
       "      <th>2019-04-30</th>\n",
       "      <td>-0.014898</td>\n",
       "      <td>-0.002390</td>\n",
       "      <td>0.004156</td>\n",
       "      <td>0.002759</td>\n",
       "      <td>0.004897</td>\n",
       "      <td>0</td>\n",
       "    </tr>\n",
       "    <tr>\n",
       "      <th>2019-05-02</th>\n",
       "      <td>-0.002612</td>\n",
       "      <td>-0.006899</td>\n",
       "      <td>0.010989</td>\n",
       "      <td>-0.021831</td>\n",
       "      <td>-0.016977</td>\n",
       "      <td>0</td>\n",
       "    </tr>\n",
       "  </tbody>\n",
       "</table>\n",
       "</div>"
      ],
      "text/plain": [
       "            PETR4.SA  VALE3.SA  ITUB4.SA  CSNA3.SA  ABEV3.SA  PETR4.SAsign\n",
       "Date                                                                      \n",
       "2019-04-25  0.012750  0.001991  0.021199 -0.016271  0.038571             0\n",
       "2019-04-26 -0.015535 -0.001189 -0.000296  0.024171  0.004945             0\n",
       "2019-04-29 -0.006534 -0.013545 -0.012371 -0.036667  0.002732             0\n",
       "2019-04-30 -0.014898 -0.002390  0.004156  0.002759  0.004897             0\n",
       "2019-05-02 -0.002612 -0.006899  0.010989 -0.021831 -0.016977             0"
      ]
     },
     "execution_count": 22,
     "metadata": {},
     "output_type": "execute_result"
    }
   ],
   "source": [
    "painel_ret.tail()"
   ]
  },
  {
   "cell_type": "markdown",
   "metadata": {},
   "source": [
    "### Prepare data"
   ]
  },
  {
   "cell_type": "code",
   "execution_count": 23,
   "metadata": {},
   "outputs": [
    {
     "data": {
      "text/plain": [
       "PETR4.SA          0\n",
       "VALE3.SA          2\n",
       "ITUB4.SA        261\n",
       "CSNA3.SA          3\n",
       "ABEV3.SA          7\n",
       "PETR4.SAsign      0\n",
       "dtype: int64"
      ]
     },
     "execution_count": 23,
     "metadata": {},
     "output_type": "execute_result"
    }
   ],
   "source": [
    "painel_ret.isna().sum()"
   ]
  },
  {
   "cell_type": "code",
   "execution_count": 24,
   "metadata": {},
   "outputs": [],
   "source": [
    "painel_ret = painel_ret.dropna()"
   ]
  },
  {
   "cell_type": "code",
   "execution_count": 25,
   "metadata": {},
   "outputs": [
    {
     "data": {
      "text/html": [
       "<div>\n",
       "<style scoped>\n",
       "    .dataframe tbody tr th:only-of-type {\n",
       "        vertical-align: middle;\n",
       "    }\n",
       "\n",
       "    .dataframe tbody tr th {\n",
       "        vertical-align: top;\n",
       "    }\n",
       "\n",
       "    .dataframe thead th {\n",
       "        text-align: right;\n",
       "    }\n",
       "</style>\n",
       "<table border=\"1\" class=\"dataframe\">\n",
       "  <thead>\n",
       "    <tr style=\"text-align: right;\">\n",
       "      <th></th>\n",
       "      <th>PETR4.SA</th>\n",
       "      <th>VALE3.SA</th>\n",
       "      <th>ITUB4.SA</th>\n",
       "      <th>CSNA3.SA</th>\n",
       "      <th>ABEV3.SA</th>\n",
       "      <th>PETR4.SAsign</th>\n",
       "    </tr>\n",
       "    <tr>\n",
       "      <th>Date</th>\n",
       "      <th></th>\n",
       "      <th></th>\n",
       "      <th></th>\n",
       "      <th></th>\n",
       "      <th></th>\n",
       "      <th></th>\n",
       "    </tr>\n",
       "  </thead>\n",
       "  <tbody>\n",
       "    <tr>\n",
       "      <th>2000-12-21</th>\n",
       "      <td>-0.028261</td>\n",
       "      <td>0.000000</td>\n",
       "      <td>0.051515</td>\n",
       "      <td>-0.012756</td>\n",
       "      <td>0.0</td>\n",
       "      <td>1</td>\n",
       "    </tr>\n",
       "    <tr>\n",
       "      <th>2000-12-22</th>\n",
       "      <td>0.006711</td>\n",
       "      <td>0.023258</td>\n",
       "      <td>-0.033616</td>\n",
       "      <td>-0.001288</td>\n",
       "      <td>0.0</td>\n",
       "      <td>0</td>\n",
       "    </tr>\n",
       "    <tr>\n",
       "      <th>2000-12-26</th>\n",
       "      <td>-0.006667</td>\n",
       "      <td>-0.022221</td>\n",
       "      <td>0.005233</td>\n",
       "      <td>0.028860</td>\n",
       "      <td>0.0</td>\n",
       "      <td>1</td>\n",
       "    </tr>\n",
       "    <tr>\n",
       "      <th>2000-12-27</th>\n",
       "      <td>0.007786</td>\n",
       "      <td>0.045453</td>\n",
       "      <td>0.016095</td>\n",
       "      <td>0.013414</td>\n",
       "      <td>0.0</td>\n",
       "      <td>1</td>\n",
       "    </tr>\n",
       "    <tr>\n",
       "      <th>2000-12-28</th>\n",
       "      <td>0.015078</td>\n",
       "      <td>0.010870</td>\n",
       "      <td>0.052331</td>\n",
       "      <td>-0.017794</td>\n",
       "      <td>0.0</td>\n",
       "      <td>1</td>\n",
       "    </tr>\n",
       "  </tbody>\n",
       "</table>\n",
       "</div>"
      ],
      "text/plain": [
       "            PETR4.SA  VALE3.SA  ITUB4.SA  CSNA3.SA  ABEV3.SA  PETR4.SAsign\n",
       "Date                                                                      \n",
       "2000-12-21 -0.028261  0.000000  0.051515 -0.012756       0.0             1\n",
       "2000-12-22  0.006711  0.023258 -0.033616 -0.001288       0.0             0\n",
       "2000-12-26 -0.006667 -0.022221  0.005233  0.028860       0.0             1\n",
       "2000-12-27  0.007786  0.045453  0.016095  0.013414       0.0             1\n",
       "2000-12-28  0.015078  0.010870  0.052331 -0.017794       0.0             1"
      ]
     },
     "execution_count": 25,
     "metadata": {},
     "output_type": "execute_result"
    }
   ],
   "source": [
    "painel_ret.head()"
   ]
  },
  {
   "cell_type": "code",
   "execution_count": 26,
   "metadata": {},
   "outputs": [
    {
     "data": {
      "text/plain": [
       "(4482, 6)"
      ]
     },
     "execution_count": 26,
     "metadata": {},
     "output_type": "execute_result"
    }
   ],
   "source": [
    "painel_ret.shape"
   ]
  },
  {
   "cell_type": "code",
   "execution_count": 27,
   "metadata": {},
   "outputs": [],
   "source": [
    "# split into input (X) and output (y) variables\n",
    "X = painel_ret.iloc[:,0:N]\n",
    "Y = painel_ret.iloc[:,N:]"
   ]
  },
  {
   "cell_type": "code",
   "execution_count": 28,
   "metadata": {},
   "outputs": [
    {
     "data": {
      "text/html": [
       "<div>\n",
       "<style scoped>\n",
       "    .dataframe tbody tr th:only-of-type {\n",
       "        vertical-align: middle;\n",
       "    }\n",
       "\n",
       "    .dataframe tbody tr th {\n",
       "        vertical-align: top;\n",
       "    }\n",
       "\n",
       "    .dataframe thead th {\n",
       "        text-align: right;\n",
       "    }\n",
       "</style>\n",
       "<table border=\"1\" class=\"dataframe\">\n",
       "  <thead>\n",
       "    <tr style=\"text-align: right;\">\n",
       "      <th></th>\n",
       "      <th>PETR4.SA</th>\n",
       "      <th>VALE3.SA</th>\n",
       "      <th>ITUB4.SA</th>\n",
       "      <th>CSNA3.SA</th>\n",
       "      <th>ABEV3.SA</th>\n",
       "    </tr>\n",
       "    <tr>\n",
       "      <th>Date</th>\n",
       "      <th></th>\n",
       "      <th></th>\n",
       "      <th></th>\n",
       "      <th></th>\n",
       "      <th></th>\n",
       "    </tr>\n",
       "  </thead>\n",
       "  <tbody>\n",
       "    <tr>\n",
       "      <th>2000-12-21</th>\n",
       "      <td>-0.028261</td>\n",
       "      <td>0.000000</td>\n",
       "      <td>0.051515</td>\n",
       "      <td>-0.012756</td>\n",
       "      <td>0.0</td>\n",
       "    </tr>\n",
       "    <tr>\n",
       "      <th>2000-12-22</th>\n",
       "      <td>0.006711</td>\n",
       "      <td>0.023258</td>\n",
       "      <td>-0.033616</td>\n",
       "      <td>-0.001288</td>\n",
       "      <td>0.0</td>\n",
       "    </tr>\n",
       "    <tr>\n",
       "      <th>2000-12-26</th>\n",
       "      <td>-0.006667</td>\n",
       "      <td>-0.022221</td>\n",
       "      <td>0.005233</td>\n",
       "      <td>0.028860</td>\n",
       "      <td>0.0</td>\n",
       "    </tr>\n",
       "    <tr>\n",
       "      <th>2000-12-27</th>\n",
       "      <td>0.007786</td>\n",
       "      <td>0.045453</td>\n",
       "      <td>0.016095</td>\n",
       "      <td>0.013414</td>\n",
       "      <td>0.0</td>\n",
       "    </tr>\n",
       "    <tr>\n",
       "      <th>2000-12-28</th>\n",
       "      <td>0.015078</td>\n",
       "      <td>0.010870</td>\n",
       "      <td>0.052331</td>\n",
       "      <td>-0.017794</td>\n",
       "      <td>0.0</td>\n",
       "    </tr>\n",
       "  </tbody>\n",
       "</table>\n",
       "</div>"
      ],
      "text/plain": [
       "            PETR4.SA  VALE3.SA  ITUB4.SA  CSNA3.SA  ABEV3.SA\n",
       "Date                                                        \n",
       "2000-12-21 -0.028261  0.000000  0.051515 -0.012756       0.0\n",
       "2000-12-22  0.006711  0.023258 -0.033616 -0.001288       0.0\n",
       "2000-12-26 -0.006667 -0.022221  0.005233  0.028860       0.0\n",
       "2000-12-27  0.007786  0.045453  0.016095  0.013414       0.0\n",
       "2000-12-28  0.015078  0.010870  0.052331 -0.017794       0.0"
      ]
     },
     "execution_count": 28,
     "metadata": {},
     "output_type": "execute_result"
    }
   ],
   "source": [
    "X.head()"
   ]
  },
  {
   "cell_type": "code",
   "execution_count": 29,
   "metadata": {},
   "outputs": [
    {
     "data": {
      "text/html": [
       "<div>\n",
       "<style scoped>\n",
       "    .dataframe tbody tr th:only-of-type {\n",
       "        vertical-align: middle;\n",
       "    }\n",
       "\n",
       "    .dataframe tbody tr th {\n",
       "        vertical-align: top;\n",
       "    }\n",
       "\n",
       "    .dataframe thead th {\n",
       "        text-align: right;\n",
       "    }\n",
       "</style>\n",
       "<table border=\"1\" class=\"dataframe\">\n",
       "  <thead>\n",
       "    <tr style=\"text-align: right;\">\n",
       "      <th></th>\n",
       "      <th>PETR4.SAsign</th>\n",
       "    </tr>\n",
       "    <tr>\n",
       "      <th>Date</th>\n",
       "      <th></th>\n",
       "    </tr>\n",
       "  </thead>\n",
       "  <tbody>\n",
       "    <tr>\n",
       "      <th>2000-12-21</th>\n",
       "      <td>1</td>\n",
       "    </tr>\n",
       "    <tr>\n",
       "      <th>2000-12-22</th>\n",
       "      <td>0</td>\n",
       "    </tr>\n",
       "    <tr>\n",
       "      <th>2000-12-26</th>\n",
       "      <td>1</td>\n",
       "    </tr>\n",
       "    <tr>\n",
       "      <th>2000-12-27</th>\n",
       "      <td>1</td>\n",
       "    </tr>\n",
       "    <tr>\n",
       "      <th>2000-12-28</th>\n",
       "      <td>1</td>\n",
       "    </tr>\n",
       "  </tbody>\n",
       "</table>\n",
       "</div>"
      ],
      "text/plain": [
       "            PETR4.SAsign\n",
       "Date                    \n",
       "2000-12-21             1\n",
       "2000-12-22             0\n",
       "2000-12-26             1\n",
       "2000-12-27             1\n",
       "2000-12-28             1"
      ]
     },
     "execution_count": 29,
     "metadata": {},
     "output_type": "execute_result"
    }
   ],
   "source": [
    "Y.head()"
   ]
  },
  {
   "cell_type": "code",
   "execution_count": 21,
   "metadata": {},
   "outputs": [
    {
     "data": {
      "text/plain": [
       "5"
      ]
     },
     "execution_count": 21,
     "metadata": {},
     "output_type": "execute_result"
    }
   ],
   "source": [
    "N"
   ]
  },
  {
   "cell_type": "markdown",
   "metadata": {},
   "source": [
    "## Define Keras Model"
   ]
  },
  {
   "cell_type": "markdown",
   "metadata": {},
   "source": [
    "### Criando Rede com 4 camadas (uma entrada, dois ocultas e uma de saida)\n",
    "\n",
    "Utilizamos o método sequential para definir nossa rede de forma sequencia. O comando Dense define rede densa, i.e., cada neuron de uma camada é conectada a todos os neurons\n",
    "da camada seguinte e da anterior.\n",
    "\n",
    "- Primeira camada : Input igual ao número de features(no caso N) e com 12 neurons. Função de ativação relu\n",
    "\n",
    "- Segunda camada:...\n",
    "\n",
    "- Última camada. Saida com 1 neuron e ativação sigmoid.\n"
   ]
  },
  {
   "cell_type": "code",
   "execution_count": 32,
   "metadata": {},
   "outputs": [
    {
     "name": "stderr",
     "output_type": "stream",
     "text": [
      "WARNING: Logging before flag parsing goes to stderr.\n",
      "W0930 16:26:38.705261 14368 deprecation_wrapper.py:119] From C:\\Users\\clayt\\Anaconda3\\lib\\site-packages\\keras\\backend\\tensorflow_backend.py:74: The name tf.get_default_graph is deprecated. Please use tf.compat.v1.get_default_graph instead.\n",
      "\n",
      "W0930 16:26:38.718226 14368 deprecation_wrapper.py:119] From C:\\Users\\clayt\\Anaconda3\\lib\\site-packages\\keras\\backend\\tensorflow_backend.py:517: The name tf.placeholder is deprecated. Please use tf.compat.v1.placeholder instead.\n",
      "\n",
      "W0930 16:26:38.722215 14368 deprecation_wrapper.py:119] From C:\\Users\\clayt\\Anaconda3\\lib\\site-packages\\keras\\backend\\tensorflow_backend.py:4138: The name tf.random_uniform is deprecated. Please use tf.random.uniform instead.\n",
      "\n"
     ]
    }
   ],
   "source": [
    "# define the keras model\n",
    "model = Sequential()\n",
    "model.add(Dense(12, input_dim=N, activation='relu'))\n",
    "model.add(Dense(8, activation='relu'))\n",
    "model.add(Dense(5, activation='relu'))\n",
    "model.add(Dense(1, activation='sigmoid'))"
   ]
  },
  {
   "cell_type": "markdown",
   "metadata": {},
   "source": [
    "### Compile Keras model"
   ]
  },
  {
   "cell_type": "code",
   "execution_count": null,
   "metadata": {},
   "outputs": [],
   "source": [
    "# compilar o modelo usando a função de erro binary_crossentropy"
   ]
  },
  {
   "cell_type": "code",
   "execution_count": 33,
   "metadata": {},
   "outputs": [
    {
     "name": "stderr",
     "output_type": "stream",
     "text": [
      "W0930 16:26:49.462031 14368 deprecation_wrapper.py:119] From C:\\Users\\clayt\\Anaconda3\\lib\\site-packages\\keras\\optimizers.py:790: The name tf.train.Optimizer is deprecated. Please use tf.compat.v1.train.Optimizer instead.\n",
      "\n",
      "W0930 16:26:49.476018 14368 deprecation_wrapper.py:119] From C:\\Users\\clayt\\Anaconda3\\lib\\site-packages\\keras\\backend\\tensorflow_backend.py:3376: The name tf.log is deprecated. Please use tf.math.log instead.\n",
      "\n",
      "W0930 16:26:49.479982 14368 deprecation.py:323] From C:\\Users\\clayt\\Anaconda3\\lib\\site-packages\\tensorflow\\python\\ops\\nn_impl.py:180: add_dispatch_support.<locals>.wrapper (from tensorflow.python.ops.array_ops) is deprecated and will be removed in a future version.\n",
      "Instructions for updating:\n",
      "Use tf.where in 2.0, which has the same broadcast rule as np.where\n"
     ]
    }
   ],
   "source": [
    "# compile the keras model\n",
    "model.compile(loss='binary_crossentropy', optimizer='adam', metrics=['accuracy'])"
   ]
  },
  {
   "cell_type": "markdown",
   "metadata": {},
   "source": [
    "## Fit\n",
    " - epochs = número de vezes que o algoritmo passa sobre o dataset inteiro.\n",
    " - batch_size = numero de divisões randomicas do dataset antes que backpropagation ocorra\n",
    " - verbose=0 caso não queira que informações apareçam."
   ]
  },
  {
   "cell_type": "code",
   "execution_count": 34,
   "metadata": {},
   "outputs": [
    {
     "name": "stderr",
     "output_type": "stream",
     "text": [
      "W0930 16:27:01.289830 14368 deprecation_wrapper.py:119] From C:\\Users\\clayt\\Anaconda3\\lib\\site-packages\\keras\\backend\\tensorflow_backend.py:986: The name tf.assign_add is deprecated. Please use tf.compat.v1.assign_add instead.\n",
      "\n"
     ]
    },
    {
     "name": "stdout",
     "output_type": "stream",
     "text": [
      "Epoch 1/150\n",
      "4482/4482 [==============================] - 0s 108us/step - loss: 0.6920 - acc: 0.5263\n",
      "Epoch 2/150\n",
      "4482/4482 [==============================] - 0s 65us/step - loss: 0.6915 - acc: 0.5308\n",
      "Epoch 3/150\n",
      "4482/4482 [==============================] - 0s 71us/step - loss: 0.6914 - acc: 0.5308\n",
      "Epoch 4/150\n",
      "4482/4482 [==============================] - 0s 68us/step - loss: 0.6913 - acc: 0.5308\n",
      "Epoch 5/150\n",
      "4482/4482 [==============================] - 0s 70us/step - loss: 0.6916 - acc: 0.5308\n",
      "Epoch 6/150\n",
      "4482/4482 [==============================] - 0s 69us/step - loss: 0.6915 - acc: 0.5308\n",
      "Epoch 7/150\n",
      "4482/4482 [==============================] - 0s 73us/step - loss: 0.6917 - acc: 0.5308\n",
      "Epoch 8/150\n",
      "4482/4482 [==============================] - 0s 74us/step - loss: 0.6915 - acc: 0.5308: 0s - loss: 0.6922 - acc: 0.52\n",
      "Epoch 9/150\n",
      "4482/4482 [==============================] - 0s 69us/step - loss: 0.6915 - acc: 0.5308\n",
      "Epoch 10/150\n",
      "4482/4482 [==============================] - 0s 70us/step - loss: 0.6914 - acc: 0.5308: 0s - loss: 0.6916 - acc: 0.52\n",
      "Epoch 11/150\n",
      "4482/4482 [==============================] - 0s 69us/step - loss: 0.6914 - acc: 0.5308\n",
      "Epoch 12/150\n",
      "4482/4482 [==============================] - 0s 68us/step - loss: 0.6914 - acc: 0.5308\n",
      "Epoch 13/150\n",
      "4482/4482 [==============================] - 0s 69us/step - loss: 0.6914 - acc: 0.5308\n",
      "Epoch 14/150\n",
      "4482/4482 [==============================] - 0s 69us/step - loss: 0.6914 - acc: 0.5308\n",
      "Epoch 15/150\n",
      "4482/4482 [==============================] - 0s 69us/step - loss: 0.6914 - acc: 0.5308\n",
      "Epoch 16/150\n",
      "4482/4482 [==============================] - 0s 68us/step - loss: 0.6913 - acc: 0.5308\n",
      "Epoch 17/150\n",
      "4482/4482 [==============================] - 0s 71us/step - loss: 0.6913 - acc: 0.5308\n",
      "Epoch 18/150\n",
      "4482/4482 [==============================] - 0s 68us/step - loss: 0.6911 - acc: 0.5308\n",
      "Epoch 19/150\n",
      "4482/4482 [==============================] - 0s 69us/step - loss: 0.6914 - acc: 0.5308\n",
      "Epoch 20/150\n",
      "4482/4482 [==============================] - 0s 68us/step - loss: 0.6913 - acc: 0.5308\n",
      "Epoch 21/150\n",
      "4482/4482 [==============================] - 0s 69us/step - loss: 0.6912 - acc: 0.5308\n",
      "Epoch 22/150\n",
      "4482/4482 [==============================] - 0s 69us/step - loss: 0.6912 - acc: 0.5308\n",
      "Epoch 23/150\n",
      "4482/4482 [==============================] - 0s 70us/step - loss: 0.6912 - acc: 0.5308\n",
      "Epoch 24/150\n",
      "4482/4482 [==============================] - 0s 68us/step - loss: 0.6912 - acc: 0.5308\n",
      "Epoch 25/150\n",
      "4482/4482 [==============================] - 0s 67us/step - loss: 0.6912 - acc: 0.5308\n",
      "Epoch 26/150\n",
      "4482/4482 [==============================] - 0s 68us/step - loss: 0.6912 - acc: 0.5308\n",
      "Epoch 27/150\n",
      "4482/4482 [==============================] - 0s 69us/step - loss: 0.6908 - acc: 0.5312\n",
      "Epoch 28/150\n",
      "4482/4482 [==============================] - 0s 69us/step - loss: 0.6916 - acc: 0.5306\n",
      "Epoch 29/150\n",
      "4482/4482 [==============================] - 0s 69us/step - loss: 0.6911 - acc: 0.5308\n",
      "Epoch 30/150\n",
      "4482/4482 [==============================] - 0s 70us/step - loss: 0.6912 - acc: 0.5308\n",
      "Epoch 31/150\n",
      "4482/4482 [==============================] - 0s 71us/step - loss: 0.6912 - acc: 0.5308\n",
      "Epoch 32/150\n",
      "4482/4482 [==============================] - 0s 69us/step - loss: 0.6911 - acc: 0.5308\n",
      "Epoch 33/150\n",
      "4482/4482 [==============================] - 0s 71us/step - loss: 0.6911 - acc: 0.5308\n",
      "Epoch 34/150\n",
      "4482/4482 [==============================] - 0s 71us/step - loss: 0.6911 - acc: 0.5308\n",
      "Epoch 35/150\n",
      "4482/4482 [==============================] - 0s 69us/step - loss: 0.6912 - acc: 0.5308\n",
      "Epoch 36/150\n",
      "4482/4482 [==============================] - 0s 69us/step - loss: 0.6910 - acc: 0.5308\n",
      "Epoch 37/150\n",
      "4482/4482 [==============================] - 0s 78us/step - loss: 0.6910 - acc: 0.5308\n",
      "Epoch 38/150\n",
      "4482/4482 [==============================] - 0s 69us/step - loss: 0.6912 - acc: 0.5308\n",
      "Epoch 39/150\n",
      "4482/4482 [==============================] - 0s 57us/step - loss: 0.6911 - acc: 0.5308\n",
      "Epoch 40/150\n",
      "4482/4482 [==============================] - 0s 58us/step - loss: 0.6909 - acc: 0.5308\n",
      "Epoch 41/150\n",
      "4482/4482 [==============================] - 0s 57us/step - loss: 0.6911 - acc: 0.5308\n",
      "Epoch 42/150\n",
      "4482/4482 [==============================] - 0s 56us/step - loss: 0.6910 - acc: 0.5308\n",
      "Epoch 43/150\n",
      "4482/4482 [==============================] - 0s 57us/step - loss: 0.6911 - acc: 0.5308\n",
      "Epoch 44/150\n",
      "4482/4482 [==============================] - 0s 56us/step - loss: 0.6911 - acc: 0.5308\n",
      "Epoch 45/150\n",
      "4482/4482 [==============================] - 0s 58us/step - loss: 0.6910 - acc: 0.5308\n",
      "Epoch 46/150\n",
      "4482/4482 [==============================] - 0s 56us/step - loss: 0.6909 - acc: 0.5308\n",
      "Epoch 47/150\n",
      "4482/4482 [==============================] - 0s 59us/step - loss: 0.6909 - acc: 0.5308\n",
      "Epoch 48/150\n",
      "4482/4482 [==============================] - 0s 65us/step - loss: 0.6910 - acc: 0.5308\n",
      "Epoch 49/150\n",
      "4482/4482 [==============================] - 0s 64us/step - loss: 0.6910 - acc: 0.5308\n",
      "Epoch 50/150\n",
      "4482/4482 [==============================] - 0s 62us/step - loss: 0.6910 - acc: 0.5308\n",
      "Epoch 51/150\n",
      "4482/4482 [==============================] - 0s 64us/step - loss: 0.6907 - acc: 0.5308\n",
      "Epoch 52/150\n",
      "4482/4482 [==============================] - 0s 65us/step - loss: 0.6908 - acc: 0.5308\n",
      "Epoch 53/150\n",
      "4482/4482 [==============================] - 0s 70us/step - loss: 0.6907 - acc: 0.5308\n",
      "Epoch 54/150\n",
      "4482/4482 [==============================] - 0s 70us/step - loss: 0.6907 - acc: 0.5301\n",
      "Epoch 55/150\n",
      "4482/4482 [==============================] - 0s 64us/step - loss: 0.6907 - acc: 0.5308\n",
      "Epoch 56/150\n",
      "4482/4482 [==============================] - 0s 63us/step - loss: 0.6905 - acc: 0.5308: 0s - loss: 0.6913 - acc: 0\n",
      "Epoch 57/150\n",
      "4482/4482 [==============================] - 0s 62us/step - loss: 0.6908 - acc: 0.5308\n",
      "Epoch 58/150\n",
      "4482/4482 [==============================] - 0s 63us/step - loss: 0.6904 - acc: 0.5308\n",
      "Epoch 59/150\n",
      "4482/4482 [==============================] - 0s 66us/step - loss: 0.6906 - acc: 0.5308\n",
      "Epoch 60/150\n",
      "4482/4482 [==============================] - 0s 69us/step - loss: 0.6907 - acc: 0.5308\n",
      "Epoch 61/150\n",
      "4482/4482 [==============================] - 0s 69us/step - loss: 0.6907 - acc: 0.5310\n",
      "Epoch 62/150\n",
      "4482/4482 [==============================] - 0s 71us/step - loss: 0.6907 - acc: 0.5310: 0s - loss: 0.6899 - acc: \n",
      "Epoch 63/150\n",
      "4482/4482 [==============================] - 0s 70us/step - loss: 0.6904 - acc: 0.5337: 0s - loss: 0.6906 - acc: 0.5\n",
      "Epoch 64/150\n",
      "4482/4482 [==============================] - 0s 69us/step - loss: 0.6904 - acc: 0.5348\n",
      "Epoch 65/150\n",
      "4482/4482 [==============================] - 0s 70us/step - loss: 0.6904 - acc: 0.5317\n",
      "Epoch 66/150\n",
      "4482/4482 [==============================] - 0s 70us/step - loss: 0.6904 - acc: 0.5339\n",
      "Epoch 67/150\n",
      "4482/4482 [==============================] - 0s 74us/step - loss: 0.6906 - acc: 0.5350\n",
      "Epoch 68/150\n",
      "4482/4482 [==============================] - 0s 72us/step - loss: 0.6906 - acc: 0.5330\n",
      "Epoch 69/150\n",
      "4482/4482 [==============================] - 0s 73us/step - loss: 0.6904 - acc: 0.5315\n",
      "Epoch 70/150\n",
      "4482/4482 [==============================] - 0s 71us/step - loss: 0.6904 - acc: 0.5357\n",
      "Epoch 71/150\n",
      "4482/4482 [==============================] - 0s 72us/step - loss: 0.6902 - acc: 0.5366\n",
      "Epoch 72/150\n",
      "4482/4482 [==============================] - 0s 66us/step - loss: 0.6905 - acc: 0.5328\n",
      "Epoch 73/150\n",
      "4482/4482 [==============================] - 0s 69us/step - loss: 0.6904 - acc: 0.5355\n",
      "Epoch 74/150\n",
      "4482/4482 [==============================] - 0s 70us/step - loss: 0.6902 - acc: 0.5341\n",
      "Epoch 75/150\n",
      "4482/4482 [==============================] - 0s 70us/step - loss: 0.6901 - acc: 0.5350\n",
      "Epoch 76/150\n",
      "4482/4482 [==============================] - 0s 70us/step - loss: 0.6899 - acc: 0.5348\n",
      "Epoch 77/150\n",
      "4482/4482 [==============================] - 0s 71us/step - loss: 0.6900 - acc: 0.5361\n",
      "Epoch 78/150\n",
      "4482/4482 [==============================] - 0s 70us/step - loss: 0.6899 - acc: 0.5366\n",
      "Epoch 79/150\n",
      "4482/4482 [==============================] - 0s 68us/step - loss: 0.6899 - acc: 0.5355\n",
      "Epoch 80/150\n",
      "4482/4482 [==============================] - 0s 70us/step - loss: 0.6900 - acc: 0.5366\n",
      "Epoch 81/150\n",
      "4482/4482 [==============================] - 0s 72us/step - loss: 0.6900 - acc: 0.5390\n",
      "Epoch 82/150\n",
      "4482/4482 [==============================] - 0s 70us/step - loss: 0.6897 - acc: 0.5317: 0s - loss: 0.6896 - acc: 0.532\n",
      "Epoch 83/150\n",
      "4482/4482 [==============================] - 0s 70us/step - loss: 0.6899 - acc: 0.5348\n",
      "Epoch 84/150\n",
      "4482/4482 [==============================] - ETA: 0s - loss: 0.6904 - acc: 0.531 - 0s 68us/step - loss: 0.6896 - acc: 0.5366\n",
      "Epoch 85/150\n",
      "4482/4482 [==============================] - 0s 74us/step - loss: 0.6897 - acc: 0.5321\n",
      "Epoch 86/150\n",
      "4482/4482 [==============================] - 0s 69us/step - loss: 0.6896 - acc: 0.5326: 0s - loss: 0.6921 - acc: 0.\n",
      "Epoch 87/150\n",
      "4482/4482 [==============================] - 0s 71us/step - loss: 0.6895 - acc: 0.5382\n",
      "Epoch 88/150\n",
      "4482/4482 [==============================] - 0s 63us/step - loss: 0.6894 - acc: 0.5368\n",
      "Epoch 89/150\n",
      "4482/4482 [==============================] - 0s 63us/step - loss: 0.6890 - acc: 0.5406\n",
      "Epoch 90/150\n",
      "4482/4482 [==============================] - 0s 61us/step - loss: 0.6893 - acc: 0.5353\n",
      "Epoch 91/150\n",
      "4482/4482 [==============================] - 0s 70us/step - loss: 0.6891 - acc: 0.5402\n",
      "Epoch 92/150\n",
      "4482/4482 [==============================] - 0s 71us/step - loss: 0.6892 - acc: 0.5359\n",
      "Epoch 93/150\n",
      "4482/4482 [==============================] - 0s 71us/step - loss: 0.6892 - acc: 0.5335\n",
      "Epoch 94/150\n",
      "4482/4482 [==============================] - 0s 73us/step - loss: 0.6890 - acc: 0.5357\n",
      "Epoch 95/150\n",
      "4482/4482 [==============================] - 0s 69us/step - loss: 0.6890 - acc: 0.5359\n",
      "Epoch 96/150\n",
      "4482/4482 [==============================] - 0s 62us/step - loss: 0.6888 - acc: 0.5355\n",
      "Epoch 97/150\n",
      "4482/4482 [==============================] - 0s 67us/step - loss: 0.6886 - acc: 0.5397\n",
      "Epoch 98/150\n",
      "4482/4482 [==============================] - 0s 72us/step - loss: 0.6888 - acc: 0.5357\n",
      "Epoch 99/150\n",
      "4482/4482 [==============================] - 0s 69us/step - loss: 0.6887 - acc: 0.5361\n",
      "Epoch 100/150\n",
      "4482/4482 [==============================] - 0s 71us/step - loss: 0.6887 - acc: 0.5393\n",
      "Epoch 101/150\n",
      "4482/4482 [==============================] - 0s 68us/step - loss: 0.6887 - acc: 0.5402\n",
      "Epoch 102/150\n",
      "4482/4482 [==============================] - 0s 70us/step - loss: 0.6887 - acc: 0.5393\n",
      "Epoch 103/150\n",
      "4482/4482 [==============================] - 0s 69us/step - loss: 0.6882 - acc: 0.5406\n",
      "Epoch 104/150\n",
      "4482/4482 [==============================] - 0s 70us/step - loss: 0.6884 - acc: 0.5411\n",
      "Epoch 105/150\n",
      "4482/4482 [==============================] - 0s 68us/step - loss: 0.6882 - acc: 0.5415\n",
      "Epoch 106/150\n",
      "4482/4482 [==============================] - 0s 69us/step - loss: 0.6880 - acc: 0.5426\n",
      "Epoch 107/150\n",
      "4482/4482 [==============================] - 0s 69us/step - loss: 0.6884 - acc: 0.5384\n",
      "Epoch 108/150\n",
      "4482/4482 [==============================] - 0s 70us/step - loss: 0.6879 - acc: 0.5437\n",
      "Epoch 109/150\n",
      "4482/4482 [==============================] - 0s 70us/step - loss: 0.6878 - acc: 0.5379\n",
      "Epoch 110/150\n",
      "4482/4482 [==============================] - 0s 71us/step - loss: 0.6879 - acc: 0.5457\n",
      "Epoch 111/150\n",
      "4482/4482 [==============================] - 0s 73us/step - loss: 0.6880 - acc: 0.5379\n",
      "Epoch 112/150\n",
      "4482/4482 [==============================] - 0s 69us/step - loss: 0.6879 - acc: 0.5448\n",
      "Epoch 113/150\n",
      "4482/4482 [==============================] - 0s 70us/step - loss: 0.6876 - acc: 0.5404\n",
      "Epoch 114/150\n",
      "4482/4482 [==============================] - 0s 70us/step - loss: 0.6875 - acc: 0.5395\n",
      "Epoch 115/150\n",
      "4482/4482 [==============================] - 0s 70us/step - loss: 0.6876 - acc: 0.5417\n",
      "Epoch 116/150\n",
      "4482/4482 [==============================] - 0s 69us/step - loss: 0.6872 - acc: 0.5417\n",
      "Epoch 117/150\n",
      "4482/4482 [==============================] - 0s 71us/step - loss: 0.6875 - acc: 0.5444\n",
      "Epoch 118/150\n",
      "4482/4482 [==============================] - 0s 68us/step - loss: 0.6873 - acc: 0.5426\n",
      "Epoch 119/150\n",
      "4482/4482 [==============================] - 0s 70us/step - loss: 0.6874 - acc: 0.5466\n",
      "Epoch 120/150\n",
      "4482/4482 [==============================] - 0s 72us/step - loss: 0.6871 - acc: 0.5419\n",
      "Epoch 121/150\n",
      "4482/4482 [==============================] - 0s 70us/step - loss: 0.6872 - acc: 0.5460\n",
      "Epoch 122/150\n",
      "4482/4482 [==============================] - 0s 70us/step - loss: 0.6873 - acc: 0.5388\n",
      "Epoch 123/150\n",
      "4482/4482 [==============================] - 0s 70us/step - loss: 0.6870 - acc: 0.5408\n",
      "Epoch 124/150\n",
      "4482/4482 [==============================] - 0s 70us/step - loss: 0.6867 - acc: 0.5386\n",
      "Epoch 125/150\n",
      "4482/4482 [==============================] - 0s 70us/step - loss: 0.6870 - acc: 0.5466: 0s - loss: 0.6875 - acc: 0.5\n",
      "Epoch 126/150\n",
      "4482/4482 [==============================] - 0s 72us/step - loss: 0.6865 - acc: 0.5509\n",
      "Epoch 127/150\n",
      "4482/4482 [==============================] - 0s 70us/step - loss: 0.6866 - acc: 0.5437\n",
      "Epoch 128/150\n",
      "4482/4482 [==============================] - 0s 69us/step - loss: 0.6866 - acc: 0.5460\n",
      "Epoch 129/150\n",
      "4482/4482 [==============================] - 0s 71us/step - loss: 0.6867 - acc: 0.5457\n",
      "Epoch 130/150\n",
      "4482/4482 [==============================] - 0s 70us/step - loss: 0.6868 - acc: 0.5451\n",
      "Epoch 131/150\n",
      "4482/4482 [==============================] - 0s 70us/step - loss: 0.6864 - acc: 0.5413\n",
      "Epoch 132/150\n",
      "4482/4482 [==============================] - 0s 70us/step - loss: 0.6866 - acc: 0.5493\n",
      "Epoch 133/150\n",
      "4482/4482 [==============================] - 0s 70us/step - loss: 0.6864 - acc: 0.5460\n",
      "Epoch 134/150\n",
      "4482/4482 [==============================] - 0s 69us/step - loss: 0.6867 - acc: 0.5406\n",
      "Epoch 135/150\n",
      "4482/4482 [==============================] - 0s 71us/step - loss: 0.6864 - acc: 0.5411\n",
      "Epoch 136/150\n",
      "4482/4482 [==============================] - 0s 71us/step - loss: 0.6861 - acc: 0.5498\n",
      "Epoch 137/150\n",
      "4482/4482 [==============================] - 0s 69us/step - loss: 0.6862 - acc: 0.5424\n",
      "Epoch 138/150\n",
      "4482/4482 [==============================] - 0s 70us/step - loss: 0.6860 - acc: 0.5464\n",
      "Epoch 139/150\n",
      "4482/4482 [==============================] - 0s 70us/step - loss: 0.6863 - acc: 0.5493\n",
      "Epoch 140/150\n",
      "4482/4482 [==============================] - 0s 68us/step - loss: 0.6858 - acc: 0.5473\n",
      "Epoch 141/150\n",
      "4482/4482 [==============================] - 0s 69us/step - loss: 0.6864 - acc: 0.5435\n",
      "Epoch 142/150\n",
      "4482/4482 [==============================] - 0s 67us/step - loss: 0.6861 - acc: 0.5486\n",
      "Epoch 143/150\n",
      "4482/4482 [==============================] - 0s 70us/step - loss: 0.6863 - acc: 0.5448: 0s - loss: 0.6871 - acc: 0.\n",
      "Epoch 144/150\n",
      "4482/4482 [==============================] - 0s 67us/step - loss: 0.6859 - acc: 0.5486\n",
      "Epoch 145/150\n",
      "4482/4482 [==============================] - 0s 69us/step - loss: 0.6857 - acc: 0.5431\n",
      "Epoch 146/150\n",
      "4482/4482 [==============================] - 0s 68us/step - loss: 0.6862 - acc: 0.5460\n",
      "Epoch 147/150\n",
      "4482/4482 [==============================] - 0s 69us/step - loss: 0.6857 - acc: 0.5448\n",
      "Epoch 148/150\n",
      "4482/4482 [==============================] - 0s 71us/step - loss: 0.6858 - acc: 0.5442\n",
      "Epoch 149/150\n",
      "4482/4482 [==============================] - 0s 71us/step - loss: 0.6854 - acc: 0.5504\n",
      "Epoch 150/150\n",
      "4482/4482 [==============================] - 0s 70us/step - loss: 0.6856 - acc: 0.5486\n"
     ]
    },
    {
     "data": {
      "text/plain": [
       "<keras.callbacks.History at 0x219c3c7d5c0>"
      ]
     },
     "execution_count": 34,
     "metadata": {},
     "output_type": "execute_result"
    }
   ],
   "source": [
    "model.fit(X, Y, epochs=150, batch_size=10) "
   ]
  },
  {
   "cell_type": "markdown",
   "metadata": {},
   "source": [
    "## Perfomance"
   ]
  },
  {
   "cell_type": "code",
   "execution_count": 41,
   "metadata": {},
   "outputs": [
    {
     "name": "stdout",
     "output_type": "stream",
     "text": [
      "4482/4482 [==============================] - 0s 7us/step\n",
      "Accuracy: 54.57\n",
      "Loss: 68.52\n"
     ]
    }
   ],
   "source": [
    "teste_loss, accuracy = model.evaluate(X, Y)  ## use verbose=0 caso nao queria atualizacoes printadas\n",
    "print('Accuracy: %.2f' % (accuracy*100))\n",
    "print('Loss: %.2f' % (teste_loss*100))"
   ]
  },
  {
   "cell_type": "markdown",
   "metadata": {},
   "source": [
    "### Predictions"
   ]
  },
  {
   "cell_type": "code",
   "execution_count": 43,
   "metadata": {},
   "outputs": [],
   "source": [
    "# make probability predictions with the model\n",
    "predictions = model.predict(X)\n",
    "# round predictions \n",
    "##Using sigmoid in the output layer, menas that the result will be a probability between zero and 1. We use the following rounding to \n",
    "#get values 0 or 1\n",
    "\n",
    "rounded = [np.around(x, decimals=0) for x in predictions]"
   ]
  },
  {
   "cell_type": "code",
   "execution_count": 45,
   "metadata": {},
   "outputs": [],
   "source": [
    "X_v = X.values\n",
    "Y_v = Y.values"
   ]
  },
  {
   "cell_type": "code",
   "execution_count": 47,
   "metadata": {},
   "outputs": [
    {
     "name": "stdout",
     "output_type": "stream",
     "text": [
      "[1.0] (expected [1])\n",
      "[0.0] (expected [0])\n",
      "[1.0] (expected [1])\n",
      "[0.0] (expected [1])\n",
      "[0.0] (expected [1])\n",
      "[0.0] (expected [1])\n",
      "[0.0] (expected [1])\n",
      "[0.0] (expected [0])\n",
      "[0.0] (expected [0])\n",
      "[0.0] (expected [1])\n"
     ]
    }
   ],
   "source": [
    "# First 10 predicted agains the real\n",
    "for i in range(10):\n",
    "\tprint('%s (expected %s)' % (rounded[i].tolist(), Y_v[i].tolist()))"
   ]
  },
  {
   "cell_type": "markdown",
   "metadata": {},
   "source": [
    "### Para maiores detalhes\n",
    "https://www.tensorflow.org/guide/keras/overview"
   ]
  },
  {
   "cell_type": "code",
   "execution_count": null,
   "metadata": {},
   "outputs": [],
   "source": []
  }
 ],
 "metadata": {
  "kernelspec": {
   "display_name": "Python 3",
   "language": "python",
   "name": "python3"
  },
  "language_info": {
   "codemirror_mode": {
    "name": "ipython",
    "version": 3
   },
   "file_extension": ".py",
   "mimetype": "text/x-python",
   "name": "python",
   "nbconvert_exporter": "python",
   "pygments_lexer": "ipython3",
   "version": "3.7.3"
  }
 },
 "nbformat": 4,
 "nbformat_minor": 4
}
